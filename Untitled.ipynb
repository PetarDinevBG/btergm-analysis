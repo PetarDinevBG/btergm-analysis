{
 "cells": [
  {
   "cell_type": "markdown",
   "metadata": {},
   "source": [
    "# Analyzing ERGM models using the R btergm package"
   ]
  },
  {
   "cell_type": "markdown",
   "metadata": {},
   "source": [
    "In this notebook we will use the btergm package to analyze network dynamics. We will do the following:\n",
    "1. Explore and prepare the data set\n",
    "2. Set up the btergm network and attributes\n",
    "3. Create custom model covariates\n",
    "4. Run the model and analyze the results"
   ]
  },
  {
   "cell_type": "markdown",
   "metadata": {},
   "source": [
    "## Data Preparation"
   ]
  },
  {
   "cell_type": "markdown",
   "metadata": {},
   "source": [
    "First we will load the required dependencies."
   ]
  },
  {
   "cell_type": "code",
   "execution_count": null,
   "metadata": {},
   "outputs": [],
   "source": [
    "library(\"btergm\")\n",
    "library(\"dplyr\")\n",
    "library(\"Matrix\")\n",
    "library(\"statnet\")  \n",
    "library(\"texreg\") \n",
    "library(\"data.table\")\n",
    "library(\"plyr\")\n",
    "library(\"metafor\")\n",
    "library(\"dotwhisker\")"
   ]
  },
  {
   "cell_type": "markdown",
   "metadata": {},
   "source": [
    "Then we read two CSV files containing interactions between players and the wealth they earned from each round."
   ]
  },
  {
   "cell_type": "code",
   "execution_count": null,
   "metadata": {},
   "outputs": [],
   "source": [
    "interact_data <- read.csv(\"data/interactions.csv\", header=T)\n",
    "wealth_data <- read.csv(\"data/finwealth_from_interactions.csv\", header=T)"
   ]
  },
  {
   "cell_type": "markdown",
   "metadata": {},
   "source": [
    "Lets see what type of data we have. Inside `interact_data` we can find information about the interactions between players as well as their entowment, while `wealth_data` stores the wealth of previous in different rounds."
   ]
  },
  {
   "cell_type": "code",
   "execution_count": null,
   "metadata": {},
   "outputs": [],
   "source": [
    "head(interact_data)\n",
    "head(wealth_data)"
   ]
  },
  {
   "cell_type": "markdown",
   "metadata": {},
   "source": [
    "Our next task is to define two helper functions. Some of the groups in the data set are missing players, so the first function will take the data and the actual players in the group and return a dataset with the player IDs adjusted to account for the missing players.\n",
    "\n",
    "We will also define a simple get function that returns the wealth of the players for a given round."
   ]
  },
  {
   "cell_type": "code",
   "execution_count": null,
   "metadata": {},
   "outputs": [],
   "source": [
    "adjust_missing_players <- function(data, players_in_game){\n",
    "  num_players <- length(players_in_game)\n",
    "  if (num_players < max(players_in_game)) {\n",
    "    x <- setdiff(seq(1, max(players_in_game)), players_in_game) \n",
    "    data$player_id[data$player_id > x] <- data$player_id[data$player_id > x] - 1\n",
    "    if(\"other_id\" %in% colnames(data))\n",
    "    {\n",
    "      data$other_id[data$other_id > x] <- data$other_id[data$other_id > x] - 1\n",
    "    }\n",
    "  }\n",
    "  return(data)\n",
    "}\n",
    "\n",
    "get_round_wealth <- function(data, current_round){\n",
    "  round_data <- data[(data$round==current_round), ]\n",
    "  return(round_data[,\"wealth\"])\n",
    "}"
   ]
  },
  {
   "cell_type": "markdown",
   "metadata": {},
   "source": [
    "Before we can create a network object that will be used in the *btergm* model, we need to create an adjacency matrix for each round and group. Our function will take the interaction data for a given round and the active players in the group. First we will adjust the player IDs if there are any missing players and then return a matrix filled with 1's and 0's depending on if player i gave to player j in the given round. "
   ]
  },
  {
   "cell_type": "code",
   "execution_count": null,
   "metadata": {},
   "outputs": [],
   "source": [
    "create_round_edges <- function(data, players_in_game){\n",
    "  players <- length(players_in_game)\n",
    "  edge_mat <- matrix(0,nrow=players,ncol=players)\n",
    "  data <- adjust_missing_players(data, players_in_game)\n",
    "  for(j in 1:nrow(data)){\n",
    "    player_id <- data[[j, \"player_id\"]]\n",
    "    other_id <- data[[j, \"other_id\"]]\n",
    "    if(player_id != other_id){\n",
    "      edge_mat[player_id, other_id] <- 1\n",
    "    }\n",
    "  }\n",
    "  return(edge_mat)\n",
    "}"
   ]
  },
  {
   "cell_type": "markdown",
   "metadata": {},
   "source": [
    "The **network** package alows us to set vertex atrributes in the network. There are two important attributues that we would like to have, which we would use in the model. Namely, the endowment and current wealth of the player."
   ]
  },
  {
   "cell_type": "code",
   "execution_count": null,
   "metadata": {},
   "outputs": [],
   "source": [
    "#Add Endowment as a vertex attribute to the network\n",
    "add_endowment <- function(network, data){\n",
    "  endowment <- unique(data[(data$round==1), ])\n",
    "  endowment <- endowment[ , c(\"player_id\", \"endowment\")][order(endowment$player_id), ]\n",
    "  network <- set.vertex.attribute(network, \"endowment\", endowment[,2])\n",
    "  return(network)\n",
    "}\n",
    "\n",
    "#Adjust wealth for missing players and add it to the network\n",
    "add_wealth <- function(network, data, round){\n",
    "  wealth_data <- as.data.table(data)\n",
    "  wealth_data <- wealth_data[ , wealth := shift(final_wealth, fill=0), by=c('treatment', 'group_id', 'player_id')]\n",
    "  #wealth_data <- transform(wealth_data, wealth=sqrt(wealth))\n",
    "  wealth_data <- ddply(wealth_data, 'round', transform, wealth = scale(wealth, scale=TRUE)) \n",
    "  wealth_data$wealth[wealth_data$round==1] <- 0\n",
    "  wealth_data$wealth <- as.numeric(wealth_data$wealth)\n",
    "  players_in_game <- wealth_data[(wealth_data$round==1), ]$player_id\n",
    "  wealth_data <- adjust_missing_players(wealth_data, players_in_game)\n",
    "  setDF(wealth_data)\n",
    "  round_wealth <- get_round_wealth(wealth_data, round)\n",
    "  network <- set.vertex.attribute(network, \"wealth\", round_wealth)\n",
    "  return(network)\n",
    "}"
   ]
  },
  {
   "cell_type": "markdown",
   "metadata": {},
   "source": []
  },
  {
   "cell_type": "code",
   "execution_count": null,
   "metadata": {},
   "outputs": [],
   "source": [
    "#Generate the network in the correct format and add the outdegree as a vertex atrribute\n",
    "get_btergm_data <- function(data1, data2){\n",
    "  network <- list()\n",
    "  players_in_game <- union(unique(data1$player_id), unique(data1$other_id))\n",
    "  num_players <- length(players_in_game)\n",
    "  for(i in 1:20){\n",
    "    round_edges <- create_round_edges(data1[(data1$round == i), ], players_in_game)\n",
    "    network[[i]] <- network(round_edges)\n",
    "    network[[i]] <- add_endowment(network[[i]], data2)\n",
    "    network[[i]] <- add_wealth(network[[i]], data2, i)\n",
    "    outdegree <- degree(network[[i]], cmode = \"outdegree\")\n",
    "    network[[i]] <- set.vertex.attribute(network[[i]], \"outdegree\", outdegree)\n",
    "  }\n",
    "  return(network)\n",
    "}"
   ]
  },
  {
   "cell_type": "markdown",
   "metadata": {},
   "source": []
  },
  {
   "cell_type": "code",
   "execution_count": null,
   "metadata": {},
   "outputs": [],
   "source": [
    "#Extract model data for metafor\n",
    "get_metafor_data <- function(group_models){\n",
    "  terms <- btergm.se(group_models[[1]])\n",
    "  yis <-matrix(list(), nrow=length(group_models), ncol=nrow(terms))\n",
    "  seis <- matrix(list(), nrow=length(group_models), ncol=nrow(terms))\n",
    "  for(i in 1:length(group_models)){\n",
    "    model <- group_models[[i]]\n",
    "    stats <- btergm.se(model)\n",
    "    for(j in 1:nrow(stats)){\n",
    "      yis[i,j] = stats[j,1] #Gets the coef estimate\n",
    "      seis[i,j] = stats[j,2] #Gets the coef standart error\n",
    "    }\n",
    "  }\n",
    "  return(export_coefs(btergm08(yis,seis,terms),terms))\n",
    "}\n",
    "\n",
    "\n",
    "#Run meta-analysis using all group models for each coefficient\n",
    "btergm08 <- function(yis,seis,terms){\n",
    "  yis <- split(yis, rep(1:ncol(yis), each = nrow(yis)))\n",
    "  seis <- split(seis, rep(1:ncol(seis), each = nrow(seis)))\n",
    "  coefs <- list()\n",
    "  for(i in 1:nrow(terms)){\n",
    "    yi <- yis[i]\n",
    "    sei <- seis[i]\n",
    "    yi<- unlist(yi, use.names=FALSE)\n",
    "    sei<- unlist(sei, use.names=FALSE)\n",
    "    coef <- rownames(terms)[i]\n",
    "    new.term <- data.frame(yi, sei)\n",
    "    meta<- rma.uni(yi, sei, data = new.term, method = \"FE\", level = 95)\n",
    "    coefs[[coef]] <- meta\n",
    "  }\n",
    "  return (coefs)\n",
    "}\n",
    "\n",
    "#Create coefficient matrix\n",
    "export_coefs <- function(coefs,terms){\n",
    "  mat <- matrix(list(), nrow = nrow(terms), ncol = 5)\n",
    "  rownames(mat) <- rownames(terms)\n",
    "  for(name in rownames(terms)){\n",
    "    term <- coefs[[name]]\n",
    "    est <- as.numeric(term[\"beta\"])\n",
    "    se <- as.numeric(term[\"se\"])\n",
    "    lb <-as.numeric(term[\"ci.lb\"])\n",
    "    ub <-as.numeric(term[\"ci.ub\"])\n",
    "    lev <- 1-as.numeric(term[\"level\"])\n",
    "    mat[name,] <- c(est,se,lb,ub,lev)\n",
    "  }\n",
    "  colnames(mat) <- c(\"estimate\",\"se\",\"mu-min\",\"mu-plus\",\"alpha-mu\")\n",
    "  return(mat)\n",
    "}"
   ]
  },
  {
   "cell_type": "markdown",
   "metadata": {},
   "source": []
  },
  {
   "cell_type": "code",
   "execution_count": null,
   "metadata": {},
   "outputs": [],
   "source": [
    "#TODO"
   ]
  },
  {
   "cell_type": "markdown",
   "metadata": {},
   "source": []
  },
  {
   "cell_type": "code",
   "execution_count": null,
   "metadata": {},
   "outputs": [],
   "source": [
    "interact_data <- read.csv(\"data/interactions.csv\", header=T)\n",
    "wealth_data <- read.csv(\"data/finwealth_from_interactions.csv\", header=T)"
   ]
  },
  {
   "cell_type": "markdown",
   "metadata": {},
   "source": []
  },
  {
   "cell_type": "code",
   "execution_count": null,
   "metadata": {},
   "outputs": [],
   "source": [
    "all_networks <- list()\n",
    "all_models <- list()\n",
    "full_summ <- NULL\n",
    "\n",
    "for (t in unique(interact_data$treatment)) {\n",
    "  group_networks <- list()\n",
    "  group_models <- list()\n",
    "  test <- list()\n",
    "  \n",
    "  for (g in unique(interact_data[(interact_data$treatment==t), ]$group_id)) {\n",
    "    \n",
    "    filtered_data1 <- interact_data[(interact_data$treatment==t) & (interact_data$group_id==g), ]\n",
    "    filtered_data2 <- wealth_data[(wealth_data$treatment==t) & (wealth_data$group_id==g), ]\n",
    "    \n",
    "    btergm_network <- get_btergm_data(filtered_data1, filtered_data2)\n",
    "    \n",
    "    \n",
    "    wealth_delrecip_cov <- create_wealth_delrecip_cov(filtered_data1,filtered_data2)\n",
    "    wealth_delrecip_cov <- edgecov_add_lag(wealth_delrecip_cov, lag=1)\n",
    "    \n",
    "    endow_delrecip_cov2 <- create_group_endow_delrecip_cov(filtered_data1,filtered_data2,2)\n",
    "    endow_delrecip_cov2 <- edgecov_add_lag(endow_delrecip_cov2, lag=1)\n",
    "    endow_delrecip_cov4 <- create_group_endow_delrecip_cov(filtered_data1,filtered_data2,4)\n",
    "    endow_delrecip_cov4 <- edgecov_add_lag(endow_delrecip_cov4, lag=1)\n",
    "    endow_delrecip_cov6 <- create_group_endow_delrecip_cov(filtered_data1,filtered_data2,6)\n",
    "    endow_delrecip_cov6 <- edgecov_add_lag(endow_delrecip_cov6, lag=1)\n",
    "    \n",
    "    btergm_model <- NULL\n",
    "    \n",
    "    if(t == \"No info\"){\n",
    "      btergm_model <- btergm(btergm_network ~ edges + ttriple + delrecip   + memory(type = \"stability\")   \n",
    "                             + nodeocov(\"endowment\") + nodeocov(\"wealth\")  , R = 100)   \n",
    "    }else if(t == \"Endow\"){\n",
    "      btergm_model <- btergm(btergm_network ~ edges + ttriple  + memory(type = \"stability\")     \n",
    "                             + nodeocov(\"endowment\") + nodeocov(\"wealth\") + nodeicov(\"endowment\")+edgecov(endow_delrecip_cov2) + edgecov(endow_delrecip_cov4)+ edgecov(endow_delrecip_cov6) , R = 100)   \n",
    "    }else if(t == \"Wealth\"){\n",
    "      btergm_model <- btergm(btergm_network ~ edges + ttriple + delrecip  + memory(type = \"stability\")\n",
    "                             + nodeocov(\"endowment\") + nodeocov(\"wealth\") + nodeicov(\"wealth\")+ edgecov(wealth_delrecip_cov), R = 100)  \n",
    "    }else if(t == \"Wealth + Endow\"){\n",
    "      btergm_model <- btergm(btergm_network ~ edges + ttriple  + memory(type = \"stability\")\n",
    "                             + nodeocov(\"endowment\") + nodeocov(\"wealth\") + nodeicov(\"wealth\") + nodeicov(\"endowment\")+edgecov(wealth_delrecip_cov)+edgecov(endow_delrecip_cov2) + edgecov(endow_delrecip_cov4)+ edgecov(endow_delrecip_cov6), R = 100)   \n",
    "    }\n",
    "    \n",
    "    group_networks[[paste(t, '_', g, sep=\"\")]] <- btergm_network\n",
    "    group_models[[paste(t, '_', g, sep=\"\")]] <- btergm_model\n",
    "  }\n",
    "  \n",
    "  all_models[[paste(t, sep=\"\")]] <- group_models\n",
    "  \n",
    "  #Export metafor coefficients\n",
    "  #models_summary <- summarize_models(group_models1, group_models2, group_models3)\n",
    "  #df <- data.frame(matrix(unlist(models_summary), ncol=length(models_summary)))\n",
    "  #write.csv(models_summary, paste('btergm_output/models_params_', t, '.csv', sep=''))\n",
    "\n",
    "  summary <- get_metafor_data(group_models)\n",
    "  write.csv(summary, paste('btergm_output/', paste('btergm_model_35',t, sep=\"\"), '.csv', sep=''))\n",
    "  full_summ <- rbind(full_summ, summary)\n",
    "  #export_model(group_models, paste('btergm_model_17full',t, sep=\"\")) \n",
    "  #all_networks[[paste(t, sep=\"\")]] <- group_networks\n",
    "}"
   ]
  },
  {
   "cell_type": "markdown",
   "metadata": {},
   "source": []
  },
  {
   "cell_type": "code",
   "execution_count": null,
   "metadata": {},
   "outputs": [],
   "source": [
    "plot_models(full_summ, unique(interact_data$treatment))"
   ]
  },
  {
   "cell_type": "markdown",
   "metadata": {},
   "source": []
  }
 ],
 "metadata": {
  "kernelspec": {
   "display_name": "R",
   "language": "R",
   "name": "ir"
  },
  "language_info": {
   "codemirror_mode": "r",
   "file_extension": ".r",
   "mimetype": "text/x-r-source",
   "name": "R",
   "pygments_lexer": "r",
   "version": "3.6.3"
  }
 },
 "nbformat": 4,
 "nbformat_minor": 4
}
